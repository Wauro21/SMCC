{
 "cells": [
  {
   "cell_type": "markdown",
   "metadata": {},
   "source": [
    "# SMCC - Jupyter Example\n",
    "\n",
    "In this example we will configure a stepper motor (3.75°/step) to run at a speed of 10 rpm and move a full rotation clockwise and counterclockwise. \n",
    "\n",
    "You only need the following imports to use the `SMCC`:"
   ]
  },
  {
   "cell_type": "code",
   "execution_count": 1,
   "metadata": {},
   "outputs": [],
   "source": [
    "import serial\n",
    "import time\n",
    "from SMCC.Commands import SETUP_CMD, STEP_CMD, generateControlDict, checkConnection,getFrequency, sendCommand\n",
    "\n",
    "# The following imports are not strictly necessary but they make the example look better\n",
    "import pprint"
   ]
  },
  {
   "cell_type": "markdown",
   "metadata": {},
   "source": [
    "## 1. Generating the base controls\n",
    "\n",
    "The base of the `SMCC` is a dictionary that holds all the basic control implemented on the driver. To generate the controls you can use the `generateControlDict` function:"
   ]
  },
  {
   "cell_type": "code",
   "execution_count": 2,
   "metadata": {},
   "outputs": [
    {
     "name": "stdout",
     "output_type": "stream",
     "text": [
      "{'comms': None,\n",
      " 'degrees_per_step': None,\n",
      " 'direction': False,\n",
      " 'enable': False,\n",
      " 'freq': 0,\n",
      " 'freq_counter': 0,\n",
      " 'halt': False,\n",
      " 'micro_stepping': <DEFAULTS.MICRO_STEPPING_DEFAULT: ['Full-Step', bitarray('00000000'), 1]>,\n",
      " 'reset': True,\n",
      " 'sleep': True,\n",
      " 'speed': 1,\n",
      " 'steps': 0}\n"
     ]
    }
   ],
   "source": [
    "ctrl_dict = generateControlDict()\n",
    "\n",
    "# Let's print the dict to show all the controls\n",
    "pprint.pprint(ctrl_dict)"
   ]
  },
  {
   "cell_type": "markdown",
   "metadata": {},
   "source": [
    "The control dictionary holds:\n",
    "\n",
    "1. The serial port (`comms`): This is the link between the `SMCC` and the Arduino board. By the default it's initialized with `None`. \n",
    "\n",
    "2. The base characteristic of the motor to control, the number of `degrees that the motor turns by a single step`. In this example we will use a motor with a relationship of: $$3.75~°/step$$\n",
    "\n",
    "3. `direction`: Indicates if the motor should turn clockwise (True) or counterclockwise (False).\n",
    "\n",
    "4. `enable`: This indicates if the Pololu Driver board should be active, works with negative logic, by default is always initialized to False (this means the Pololu board is enabled and waiting for commands). \n",
    "\n",
    "5. `freq`: Is the factible frequency that the controller should use to generate the step square wave. By default it's initialized to zero. \n",
    "\n",
    "6. `freq_counter`: Holds the value used by the Arduino to generate the requiered frequency square wave. By default it's initialized to zero.\n",
    "\n",
    "7. `halt`: Indicates if the controller should stop all motor related operations. If the motor is performing a number of steps and the halt flag is raised and sent, the controller would stop and clean. \n",
    "\n",
    "8. `micro_stepping`: Indicates if the controller should use microstepping. By default the motor always is initialized with `FULL-STEP`. \n",
    "\n",
    "9. `reset`: Indicates if the Pololu board should be reseted, works with negative logic. If `False` the board resets until the value is `True`. \n",
    "\n",
    "10. `sleep`: Indicates if the Pololu board should sleep between step-operations. Works with negative logic, so when `False` the board will be slept in between operations. **This disables holding torque**.\n",
    "\n",
    "12. `speed`: Holds the desired speed value in rpm. By default it's set to 1 rpm. \n",
    "\n",
    "11. `steps`: Indicates the number of steps that the motor should take. \n",
    "\n",
    "\n",
    "Now that we have analyzed every parameter available in the control dict, it's time to configure the controls for our particular case. \n",
    "\n",
    "## 2. Configuring the controls\n",
    "\n",
    "First, we should inform the characteristics of our motor, this is used for the frequency /frequency counter calculations performed later:"
   ]
  },
  {
   "cell_type": "code",
   "execution_count": 3,
   "metadata": {},
   "outputs": [],
   "source": [
    "ctrl_dict['degrees_per_step'] = 3.75"
   ]
  },
  {
   "cell_type": "markdown",
   "metadata": {},
   "source": [
    "We need to set the direction of the spin, for clickwise we need to set direction to True:"
   ]
  },
  {
   "cell_type": "code",
   "execution_count": 4,
   "metadata": {},
   "outputs": [],
   "source": [
    "ctrl_dict['direction'] = True"
   ]
  },
  {
   "cell_type": "markdown",
   "metadata": {},
   "source": [
    "Then we should configure our desired speed and by extension the frequency of the square wave used to control each step of the motor:"
   ]
  },
  {
   "cell_type": "code",
   "execution_count": 5,
   "metadata": {},
   "outputs": [],
   "source": [
    "ctrl_dict['speed'] = 10 # rpm]"
   ]
  },
  {
   "cell_type": "markdown",
   "metadata": {},
   "source": [
    "To generate the corresponding frequency and counter, we can use the implemented function `getFrequency` that returns the ideal frequency, the factible frequency (the one that the Arduino controller can manage to create) and the associated counter for this factible frequency:"
   ]
  },
  {
   "cell_type": "code",
   "execution_count": 6,
   "metadata": {},
   "outputs": [
    {
     "name": "stdout",
     "output_type": "stream",
     "text": [
      "The requiered frequency is 16.0 Hz\n",
      "The factible frequency is 15.998976065531807 Hz\n",
      "And the counter is 7812\n"
     ]
    }
   ],
   "source": [
    "req_freq, real_freq, counter = getFrequency(ctrl_dict)\n",
    "print('The requiered frequency is {} Hz\\nThe factible frequency is {} Hz\\nAnd the counter is {}'.format(req_freq, real_freq, counter))"
   ]
  },
  {
   "cell_type": "markdown",
   "metadata": {},
   "source": [
    "We assign this valules to the control dictionary:"
   ]
  },
  {
   "cell_type": "code",
   "execution_count": 7,
   "metadata": {},
   "outputs": [],
   "source": [
    "ctrl_dict['freq'] = real_freq\n",
    "ctrl_dict['freq_counter'] = counter"
   ]
  },
  {
   "cell_type": "markdown",
   "metadata": {},
   "source": [
    "After configuring the controls we need a way of telling the controller we want this settings to be applied, so we need to setup the serial communication!"
   ]
  },
  {
   "cell_type": "markdown",
   "metadata": {},
   "source": [
    "## 3. Configuring serial port\n",
    "\n",
    "For this we use `PySerial`. In the case of our example, the Arduino is connected to our computer via the `/dev/ttyACM0` serial port. You can use the Arduino-IDE interface to identify to which port your Arduino is connected to: \n",
    "\n",
    "<p align=center>\n",
    "    <img src='images/example_serial_port.gif'>\n",
    "</p>\n",
    "\n",
    "We setup the connection as follows:"
   ]
  },
  {
   "cell_type": "code",
   "execution_count": 8,
   "metadata": {},
   "outputs": [],
   "source": [
    "port = '/dev/ttyACM0' # Change this to the serial port your arduino is connected to\n",
    "baud_rate = 9600 \n",
    "timeout = 10.0 # seconds\n",
    "\n",
    "ctrl_dict['comms'] = serial.Serial(port, baudrate=baud_rate, timeout=timeout)\n",
    "# This allows the Arduino to reboot\n",
    "time.sleep(10)"
   ]
  },
  {
   "cell_type": "markdown",
   "metadata": {},
   "source": [
    "We setup the port with a timeout of 10 seconds, in case the Arduino doesn't reply to a command in that interval the connections stops and doesn't freeze. After setting up the connection we wait for 10 seconds for the Arduino to reboot, before this time there is no guarantee that the controller can reply to any sent command. \n",
    "\n",
    "We can test if the selected port can talk to the Arduino using the `checkConnection` function. The function sends a SETUP_CMD to the Arduino and check the reply to see if it matches the CMD:\n"
   ]
  },
  {
   "cell_type": "code",
   "execution_count": 9,
   "metadata": {},
   "outputs": [
    {
     "name": "stdout",
     "output_type": "stream",
     "text": [
      "The connection is sucessful. Arduino reply matches sent CMD\n"
     ]
    }
   ],
   "source": [
    "if(checkConnection(ctrl_dict)):\n",
    "    print('The connection is sucessful. Arduino reply matches sent CMD')\n",
    "else:\n",
    "    print('Something went wrong!')"
   ]
  },
  {
   "cell_type": "markdown",
   "metadata": {},
   "source": [
    "This process of comparing sent CMD and received response implemented in the checkConnection is also implemented on the `sendCommand` function. We will see some examples of this in the following section!\n",
    "\n",
    "## 4. Sending the configurations to the Arduino\n",
    "\n",
    "Now that we have customized the control dictionary, we need to send it to the Arduino Controller, for this we can use the function `SETUP_CMD` that generates a command that we can send to the controller using the function `sendCommand`: "
   ]
  },
  {
   "cell_type": "code",
   "execution_count": 10,
   "metadata": {},
   "outputs": [],
   "source": [
    "# Generate the setup cmd\n",
    "setup_cmd = SETUP_CMD(ctrl_dict)\n",
    "\n",
    "# Send Command\n",
    "setup_response = sendCommand(ctrl_dict['comms'], setup_cmd)\n"
   ]
  },
  {
   "cell_type": "markdown",
   "metadata": {},
   "source": [
    "`sendCommand` uses the port `ctrl_dict['comms']` to send the requested command to the Arduino. It also performs a check to verify that the controller reply matches the sent command, if it doesn't match raises an Exception. \n",
    "\n",
    "\n",
    "At this point, we have replicated the `ctrl_dict` configurations on the Arduino. Now we can proceed to send some step commands. \n",
    "\n",
    "## 5. Sending step command : Clockwise 360° rotation\n",
    "\n",
    "We have setup the controls for this clockwise rotation in the previous sections. Now we have to generate the step command for the number of steps we want. Considering that out motor makes 3.75°/step we can calculate a full rotation as:"
   ]
  },
  {
   "cell_type": "code",
   "execution_count": 11,
   "metadata": {},
   "outputs": [
    {
     "name": "stdout",
     "output_type": "stream",
     "text": [
      "Requiered steps for full rotation: 96\n"
     ]
    }
   ],
   "source": [
    "full_rotation_steps = int(360/ctrl_dict['degrees_per_step'])\n",
    "print('Requiered steps for full rotation: {}'.format(full_rotation_steps))"
   ]
  },
  {
   "cell_type": "markdown",
   "metadata": {},
   "source": [
    "Now we set the step count on the `ctrl_dict` and prepare the step cmd using the `STEP_CMD` function:"
   ]
  },
  {
   "cell_type": "code",
   "execution_count": 12,
   "metadata": {},
   "outputs": [
    {
     "name": "stdout",
     "output_type": "stream",
     "text": [
      "Show the generated step command:\n",
      "{'cmd': [bitarray('00000001'), bitarray('00000000'), bitarray('01100000')],\n",
      " 'response_size': 3}\n"
     ]
    }
   ],
   "source": [
    "ctrl_dict['steps'] = full_rotation_steps\n",
    "\n",
    "# Prepare the command\n",
    "step_cmd = STEP_CMD(ctrl_dict)\n",
    "\n",
    "# Show the generated command\n",
    "print('Show the generated step command:')\n",
    "pprint.pprint(step_cmd)"
   ]
  },
  {
   "cell_type": "markdown",
   "metadata": {},
   "source": [
    "The command is sent using the `sendCommand` function:"
   ]
  },
  {
   "cell_type": "code",
   "execution_count": 13,
   "metadata": {},
   "outputs": [],
   "source": [
    "step_response = sendCommand(ctrl_dict['comms'], step_cmd)"
   ]
  },
  {
   "cell_type": "markdown",
   "metadata": {},
   "source": [
    "At this point, the motor shoul have performed a full clockwise rotation! Congratulations, now we can change the direction and try again. \n",
    "\n",
    "## 6. Sending Step Command: Counterclockwise 360° rotation\n",
    "\n",
    "For this operation, we need to set the direction to counterclockwise (False), inform the arduino about this change and send a new step command:"
   ]
  },
  {
   "cell_type": "code",
   "execution_count": 14,
   "metadata": {},
   "outputs": [],
   "source": [
    "# Change direction\n",
    "ctrl_dict['direction'] = False\n",
    "\n",
    "# Inform the arduino about this change\n",
    "setup_cmd = SETUP_CMD(ctrl_dict)\n",
    "\n",
    "# Send the changes to the Arduino\n",
    "setup_response = sendCommand(ctrl_dict['comms'], setup_cmd)\n",
    "\n",
    "# Generate a new step cmd\n",
    "step_cmd = STEP_CMD(ctrl_dict)\n",
    "# Inform the Arduino\n",
    "step_response = sendCommand(ctrl_dict['comms'], step_cmd)\n"
   ]
  },
  {
   "cell_type": "markdown",
   "metadata": {},
   "source": [
    "This concludes the tutorial, at this point the motor should have rotated one full rotation counterclockwise. Don't forget to run the following line to close the serial port: "
   ]
  },
  {
   "cell_type": "code",
   "execution_count": 15,
   "metadata": {},
   "outputs": [],
   "source": [
    "ctrl_dict['comms'].close()"
   ]
  }
 ],
 "metadata": {
  "kernelspec": {
   "display_name": "Examples-3RcnXs5e",
   "language": "python",
   "name": "python3"
  },
  "language_info": {
   "codemirror_mode": {
    "name": "ipython",
    "version": 3
   },
   "file_extension": ".py",
   "mimetype": "text/x-python",
   "name": "python",
   "nbconvert_exporter": "python",
   "pygments_lexer": "ipython3",
   "version": "3.8.10"
  },
  "orig_nbformat": 4
 },
 "nbformat": 4,
 "nbformat_minor": 2
}
